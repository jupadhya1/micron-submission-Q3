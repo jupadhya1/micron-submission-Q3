{
  "nbformat": 4,
  "nbformat_minor": 0,
  "metadata": {
    "colab": {
      "name": "TensorFlow with GPU",
      "provenance": [],
      "collapsed_sections": [],
      "toc_visible": true
    },
    "kernelspec": {
      "display_name": "Python 3",
      "name": "python3"
    },
    "accelerator": "GPU"
  },
  "cells": [
    {
      "cell_type": "markdown",
      "metadata": {
        "id": "tMce8muBqXQP"
      },
      "source": [
        "# Tensorflow with GPU\n",
        "\n",
        "This notebook provides an introduction to computing on a [GPU](https://cloud.google.com/gpu) in Colab. In this notebook you will connect to a GPU, and then run some basic TensorFlow operations on both the CPU and a GPU, observing the speedup provided by using the GPU.\n"
      ]
    },
    {
      "cell_type": "markdown",
      "metadata": {
        "id": "oM_8ELnJq_wd"
      },
      "source": [
        "## Enabling and testing the GPU\n",
        "\n",
        "First, you'll need to enable GPUs for the notebook:\n",
        "\n",
        "- Navigate to Edit→Notebook Settings\n",
        "- select GPU from the Hardware Accelerator drop-down\n",
        "\n",
        "Next, we'll confirm that we can connect to the GPU with tensorflow:"
      ]
    },
    {
      "cell_type": "code",
      "metadata": {
        "colab": {
          "base_uri": "https://localhost:8080/"
        },
        "id": "sXnDmXR7RDr2",
        "outputId": "01a12f9b-4ff7-49d9-9b28-1cea1a243a65"
      },
      "source": [
        "%tensorflow_version 2.x\n",
        "import tensorflow as tf\n",
        "device_name = tf.test.gpu_device_name()\n",
        "if device_name != '/device:GPU:0':\n",
        "  raise SystemError('GPU device not found')\n",
        "print('Found GPU at: {}'.format(device_name))"
      ],
      "execution_count": 2,
      "outputs": [
        {
          "output_type": "stream",
          "text": [
            "Found GPU at: /device:GPU:0\n"
          ],
          "name": "stdout"
        }
      ]
    },
    {
      "cell_type": "markdown",
      "metadata": {
        "id": "v3fE7KmKRDsH"
      },
      "source": [
        "## Observe TensorFlow speedup on GPU relative to CPU\n",
        "\n",
        "This example constructs a typical convolutional neural network layer over a\n",
        "random image and manually places the resulting ops on either the CPU or the GPU\n",
        "to compare execution speed."
      ]
    },
    {
      "cell_type": "code",
      "metadata": {
        "colab": {
          "base_uri": "https://localhost:8080/"
        },
        "id": "Y04m-jvKRDsJ",
        "outputId": "d933e745-eca8-4e45-9752-2b144adfc7e2"
      },
      "source": [
        "%tensorflow_version 2.x\n",
        "import tensorflow as tf\n",
        "import timeit\n",
        "\n",
        "device_name = tf.test.gpu_device_name()\n",
        "if device_name != '/device:GPU:0':\n",
        "  print(\n",
        "      '\\n\\nThis error most likely means that this notebook is not '\n",
        "      'configured to use a GPU.  Change this in Notebook Settings via the '\n",
        "      'command palette (cmd/ctrl-shift-P) or the Edit menu.\\n\\n')\n",
        "  raise SystemError('GPU device not found')\n",
        "\n",
        "def cpu():\n",
        "  with tf.device('/cpu:0'):\n",
        "    random_image_cpu = tf.random.normal((100, 100, 100, 3))\n",
        "    net_cpu = tf.keras.layers.Conv2D(32, 7)(random_image_cpu)\n",
        "    return tf.math.reduce_sum(net_cpu)\n",
        "\n",
        "def gpu():\n",
        "  with tf.device('/device:GPU:0'):\n",
        "    random_image_gpu = tf.random.normal((100, 100, 100, 3))\n",
        "    net_gpu = tf.keras.layers.Conv2D(32, 7)(random_image_gpu)\n",
        "    return tf.math.reduce_sum(net_gpu)\n",
        "  \n",
        "# We run each op once to warm up; see: https://stackoverflow.com/a/45067900\n",
        "cpu()\n",
        "gpu()\n",
        "\n",
        "# Run the op several times.\n",
        "print('Time (s) to convolve 32x7x7x3 filter over random 100x100x100x3 images '\n",
        "      '(batch x height x width x channel). Sum of ten runs.')\n",
        "print('CPU (s):')\n",
        "cpu_time = timeit.timeit('cpu()', number=10, setup=\"from __main__ import cpu\")\n",
        "print(cpu_time)\n",
        "print('GPU (s):')\n",
        "gpu_time = timeit.timeit('gpu()', number=10, setup=\"from __main__ import gpu\")\n",
        "print(gpu_time)\n",
        "print('GPU speedup over CPU: {}x'.format(int(cpu_time/gpu_time)))"
      ],
      "execution_count": 1,
      "outputs": [
        {
          "output_type": "stream",
          "text": [
            "Time (s) to convolve 32x7x7x3 filter over random 100x100x100x3 images (batch x height x width x channel). Sum of ten runs.\n",
            "CPU (s):\n",
            "2.742345027000013\n",
            "GPU (s):\n",
            "0.042840216000001874\n",
            "GPU speedup over CPU: 64x\n"
          ],
          "name": "stdout"
        }
      ]
    },
    {
      "cell_type": "code",
      "metadata": {
        "id": "xuttQae45Iwg",
        "outputId": "4326d1e4-dad3-47a8-b43a-94bb8048082d",
        "colab": {
          "base_uri": "https://localhost:8080/"
        }
      },
      "source": [
        "! pip install pytesseract"
      ],
      "execution_count": 5,
      "outputs": [
        {
          "output_type": "stream",
          "text": [
            "Collecting pytesseract\n",
            "  Downloading https://files.pythonhosted.org/packages/a0/e6/a4e9fc8a93c1318540e8de6d8d4beb5749b7960388a7c7f27799fc2dd016/pytesseract-0.3.7.tar.gz\n",
            "Requirement already satisfied: Pillow in /usr/local/lib/python3.7/dist-packages (from pytesseract) (7.1.2)\n",
            "Building wheels for collected packages: pytesseract\n",
            "  Building wheel for pytesseract (setup.py) ... \u001b[?25l\u001b[?25hdone\n",
            "  Created wheel for pytesseract: filename=pytesseract-0.3.7-py2.py3-none-any.whl size=13945 sha256=d0238fb0163c4c660bb4a1102ee09836a01ecdceb451fdc437b65fc0a3c54092\n",
            "  Stored in directory: /root/.cache/pip/wheels/81/20/7e/1dd0daad1575d5260916bb1e9781246430647adaef4b3ca3b3\n",
            "Successfully built pytesseract\n",
            "Installing collected packages: pytesseract\n",
            "Successfully installed pytesseract-0.3.7\n"
          ],
          "name": "stdout"
        }
      ]
    },
    {
      "cell_type": "code",
      "metadata": {
        "id": "gXUEOBWP498b"
      },
      "source": [
        "import cv2\n",
        "import numpy as np\n",
        "import pandas as pd\n",
        "import matplotlib.pyplot as plt\n",
        "import csv\n",
        "try:\n",
        "    from PIL import Image\n",
        "except ImportError:\n",
        "    import Image\n",
        "import pytesseract"
      ],
      "execution_count": 6,
      "outputs": []
    },
    {
      "cell_type": "code",
      "metadata": {
        "id": "zJX13s084-E-",
        "outputId": "209971a5-20f1-4ee3-fafb-574f35aaafdc",
        "colab": {
          "base_uri": "https://localhost:8080/",
          "height": 123
        }
      },
      "source": [
        "#read your file\n",
        "file=r'/content/Table.jpg'\n",
        "img = cv2.imread(file,0)\n",
        "img.shape\n",
        "#thresholding the image to a binary image\n",
        "thresh,img_bin = cv2.threshold(img,128,255,cv2.THRESH_BINARY |cv2.THRESH_OTSU)\n",
        "#inverting the image \n",
        "img_bin = 255-img_bin\n",
        "cv2.imwrite('/content/cv_inverted.png',img_bin)\n",
        "#Plotting the image to see the output\n",
        "plotting = plt.imshow(img_bin,cmap='gray')\n",
        "plt.show()"
      ],
      "execution_count": 7,
      "outputs": [
        {
          "output_type": "display_data",
          "data": {
            "image/png": "[encoded data removed]",
            "text/plain": [
              "<Figure size 432x288 with 1 Axes>"
            ]
          },
          "metadata": {
            "tags": [],
            "needs_background": "light"
          }
        }
      ]
    },
    {
      "cell_type": "code",
      "metadata": {
        "id": "U_kcIPSZ4-Hu"
      },
      "source": [
        "# Length(width) of kernel as 100th of total width\n",
        "kernel_len = np.array(img).shape[1]//100\n",
        "# Defining a vertical kernel to detect all vertical lines of image \n",
        "ver_kernel = cv2.getStructuringElement(cv2.MORPH_RECT, (1, kernel_len))\n",
        "# Defining a horizontal kernel to detect all horizontal lines of image\n",
        "hor_kernel = cv2.getStructuringElement(cv2.MORPH_RECT, (kernel_len, 1))\n",
        "# A kernel of 2x2\n",
        "kernel = cv2.getStructuringElement(cv2.MORPH_RECT, (2, 2))"
      ],
      "execution_count": 8,
      "outputs": []
    },
    {
      "cell_type": "code",
      "metadata": {
        "id": "h3eAs0mG4-KW"
      },
      "source": [
        "#The next step is the detection of the vertical lines."
      ],
      "execution_count": null,
      "outputs": []
    },
    {
      "cell_type": "code",
      "metadata": {
        "id": "dGXVbeZ05S8v",
        "outputId": "2606da1d-a07e-4238-b4cc-52cac758a3fa",
        "colab": {
          "base_uri": "https://localhost:8080/",
          "height": 141
        }
      },
      "source": [
        "#Use vertical kernel to detect and save the vertical lines in a jpg\n",
        "image_1 = cv2.erode(img_bin, ver_kernel, iterations=3)\n",
        "vertical_lines = cv2.dilate(image_1, ver_kernel, iterations=3)\n",
        "cv2.imwrite(\"//content/vertical.jpg\",vertical_lines)\n",
        "#Plot the generated image\n",
        "plotting = plt.imshow(image_1,cmap='gray')\n",
        "plt.show"
      ],
      "execution_count": 10,
      "outputs": [
        {
          "output_type": "execute_result",
          "data": {
            "text/plain": [
              "<function matplotlib.pyplot.show>"
            ]
          },
          "metadata": {
            "tags": []
          },
          "execution_count": 10
        },
        {
          "output_type": "display_data",
          "data": {
            "image/png": "[encoded data removed]",
            "text/plain": [
              "<Figure size 432x288 with 1 Axes>"
            ]
          },
          "metadata": {
            "tags": [],
            "needs_background": "light"
          }
        }
      ]
    },
    {
      "cell_type": "code",
      "metadata": {
        "id": "JU7HmWAh5aRY",
        "outputId": "faf8f631-08b3-4884-91fa-6e267155a6bb",
        "colab": {
          "base_uri": "https://localhost:8080/",
          "height": 123
        }
      },
      "source": [
        "#Use horizontal kernel to detect and save the horizontal lines in a jpg\n",
        "image_2 = cv2.erode(img_bin, hor_kernel, iterations=3)\n",
        "horizontal_lines = cv2.dilate(image_2, hor_kernel, iterations=3)\n",
        "cv2.imwrite(\"/content/horizontal.jpg\",horizontal_lines)\n",
        "#Plot the generated image\n",
        "plotting = plt.imshow(image_2,cmap='gray')\n",
        "plt.show()"
      ],
      "execution_count": 11,
      "outputs": [
        {
          "output_type": "display_data",
          "data": {
            "image/png": "[encoded data removed]",
            "text/plain": [
              "<Figure size 432x288 with 1 Axes>"
            ]
          },
          "metadata": {
            "tags": [],
            "needs_background": "light"
          }
        }
      ]
    },
    {
      "cell_type": "code",
      "metadata": {
        "id": "lLvcoKV95eZe",
        "outputId": "b84dcef7-e010-4fa7-9a83-430551f44ce9",
        "colab": {
          "base_uri": "https://localhost:8080/",
          "height": 123
        }
      },
      "source": [
        "# Combine horizontal and vertical lines in a new third image, with both having same weight.\n",
        "img_vh = cv2.addWeighted(vertical_lines, 0.5, horizontal_lines, 0.5, 0.0)\n",
        "#Eroding and thesholding the image\n",
        "img_vh = cv2.erode(~img_vh, kernel, iterations=2)\n",
        "thresh, img_vh = cv2.threshold(img_vh,128,255, cv2.THRESH_BINARY | cv2.THRESH_OTSU)\n",
        "cv2.imwrite(\"/content/img_vh.jpg\", img_vh)\n",
        "bitxor = cv2.bitwise_xor(img,img_vh)\n",
        "bitnot = cv2.bitwise_not(bitxor)\n",
        "#Plotting the generated image\n",
        "plotting = plt.imshow(bitnot,cmap='gray')\n",
        "plt.show()\n"
      ],
      "execution_count": 12,
      "outputs": [
        {
          "output_type": "display_data",
          "data": {
            "image/png": "[encoded data removed]",
            "text/plain": [
              "<Figure size 432x288 with 1 Axes>"
            ]
          },
          "metadata": {
            "tags": [],
            "needs_background": "light"
          }
        }
      ]
    },
    {
      "cell_type": "code",
      "metadata": {
        "id": "aepqrBtq5h9B"
      },
      "source": [
        "# Detect contours for following box detection\n",
        "contours, hierarchy = cv2.findContours(img_vh, cv2.RETR_TREE, cv2.CHAIN_APPROX_SIMPLE)"
      ],
      "execution_count": 13,
      "outputs": []
    },
    {
      "cell_type": "code",
      "metadata": {
        "id": "AcHCOjhy5k8H"
      },
      "source": [
        "def sort_contours(cnts, method=\"left-to-right\"):\n",
        "    # initialize the reverse flag and sort index\n",
        "    reverse = False\n",
        "    i = 0\n",
        "    # handle if we need to sort in reverse\n",
        "    if method == \"right-to-left\" or method == \"bottom-to-top\":\n",
        "       reverse = True\n",
        "    # handle if we are sorting against the y-coordinate rather than\n",
        "    # the x-coordinate of the bounding box\n",
        "    if method == \"top-to-bottom\" or method == \"bottom-to-top\":\n",
        "       i = 1\n",
        "    # construct the list of bounding boxes and sort them from top to\n",
        "    # bottom\n",
        "    boundingBoxes = [cv2.boundingRect(c) for c in cnts]\n",
        "    (cnts, boundingBoxes) = zip(*sorted(zip(cnts, boundingBoxes),\n",
        "    key=lambda b:b[1][i], reverse=reverse))\n",
        "    # return the list of sorted contours and bounding boxes\n",
        "    return (cnts, boundingBoxes)\n",
        "\n",
        "# Sort all the contours by top to bottom.\n",
        "contours, boundingBoxes = sort_contours(contours, method=\"top-to-bottom\")"
      ],
      "execution_count": 17,
      "outputs": []
    },
    {
      "cell_type": "code",
      "metadata": {
        "id": "hSmpWUWF5wDS"
      },
      "source": [
        "#Creating a list of heights for all detected boxes\n",
        "heights = [boundingBoxes[i][3] for i in range(len(boundingBoxes))]\n",
        "#Get mean of heights\n",
        "mean = np.mean(heights)"
      ],
      "execution_count": 18,
      "outputs": []
    },
    {
      "cell_type": "code",
      "metadata": {
        "id": "oEVfWqLg52dC",
        "outputId": "c7824d3b-86f4-401c-f2ff-e4f89fe29240",
        "colab": {
          "base_uri": "https://localhost:8080/",
          "height": 123
        }
      },
      "source": [
        "#Create list box to store all boxes in  \n",
        "box = []\n",
        "# Get position (x,y), width and height for every contour and show the contour on image\n",
        "for c in contours:\n",
        "    x, y, w, h = cv2.boundingRect(c)\n",
        "    if (w<1000 and h<500):\n",
        "        image = cv2.rectangle(img,(x,y),(x+w,y+h),(0,255,0),2)\n",
        "        box.append([x,y,w,h])\n",
        "plotting = plt.imshow(image,cmap='gray')\n",
        "plt.show()"
      ],
      "execution_count": 20,
      "outputs": [
        {
          "output_type": "display_data",
          "data": {
            "image/png": "[encoded data removed]",
            "text/plain": [
              "<Figure size 432x288 with 1 Axes>"
            ]
          },
          "metadata": {
            "tags": [],
            "needs_background": "light"
          }
        }
      ]
    },
    {
      "cell_type": "code",
      "metadata": {
        "id": "sdwfY4yI580K",
        "outputId": "d4938710-96b2-49fa-b890-55ff46961867",
        "colab": {
          "base_uri": "https://localhost:8080/"
        }
      },
      "source": [
        "len(contours)"
      ],
      "execution_count": 21,
      "outputs": [
        {
          "output_type": "execute_result",
          "data": {
            "text/plain": [
              "54"
            ]
          },
          "metadata": {
            "tags": []
          },
          "execution_count": 21
        }
      ]
    }
  ]
}